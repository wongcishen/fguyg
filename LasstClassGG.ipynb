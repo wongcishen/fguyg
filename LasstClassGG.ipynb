{
 "cells": [
  {
   "cell_type": "code",
   "execution_count": 14,
   "id": "9516b46d",
   "metadata": {},
   "outputs": [
    {
     "name": "stdout",
     "output_type": "stream",
     "text": [
      "Defaulting to user installation because normal site-packages is not writeable\n",
      "Requirement already satisfied: opencv-python in c:\\users\\fict\\appdata\\roaming\\python\\python39\\site-packages (4.6.0.66)\n",
      "Requirement already satisfied: numpy>=1.14.5 in c:\\programdata\\anaconda3\\lib\\site-packages (from opencv-python) (1.21.5)\n"
     ]
    }
   ],
   "source": [
    "!pip install opencv-python\n"
   ]
  },
  {
   "cell_type": "code",
   "execution_count": 15,
   "id": "64a49619",
   "metadata": {},
   "outputs": [
    {
     "ename": "ModuleNotFoundError",
     "evalue": "No module named 'cv2'",
     "output_type": "error",
     "traceback": [
      "\u001b[1;31m---------------------------------------------------------------------------\u001b[0m",
      "\u001b[1;31mModuleNotFoundError\u001b[0m                       Traceback (most recent call last)",
      "Input \u001b[1;32mIn [15]\u001b[0m, in \u001b[0;36m<cell line: 1>\u001b[1;34m()\u001b[0m\n\u001b[1;32m----> 1\u001b[0m \u001b[38;5;28;01mimport\u001b[39;00m \u001b[38;5;21;01mcv2\u001b[39;00m\n\u001b[0;32m      2\u001b[0m \u001b[38;5;28;01mimport\u001b[39;00m \u001b[38;5;21;01mnumpy\u001b[39;00m \u001b[38;5;28;01mas\u001b[39;00m \u001b[38;5;21;01mnp\u001b[39;00m\n\u001b[0;32m      3\u001b[0m \u001b[38;5;28;01mimport\u001b[39;00m \u001b[38;5;21;01mmatplotlib\u001b[39;00m\u001b[38;5;21;01m.\u001b[39;00m\u001b[38;5;21;01mpyplot\u001b[39;00m \u001b[38;5;28;01mas\u001b[39;00m \u001b[38;5;21;01mplt\u001b[39;00m\n",
      "\u001b[1;31mModuleNotFoundError\u001b[0m: No module named 'cv2'"
     ]
    }
   ],
   "source": [
    "import cv2\n",
    "import numpy as np\n",
    "import matplotlib.pyplot as plt\n"
   ]
  },
  {
   "cell_type": "markdown",
   "id": "c1e36ba9",
   "metadata": {},
   "source": [
    "# Simple demo what is knn"
   ]
  },
  {
   "cell_type": "code",
   "execution_count": 2,
   "id": "67231ecc",
   "metadata": {},
   "outputs": [
    {
     "ename": "NameError",
     "evalue": "name 'np' is not defined",
     "output_type": "error",
     "traceback": [
      "\u001b[1;31m---------------------------------------------------------------------------\u001b[0m",
      "\u001b[1;31mNameError\u001b[0m                                 Traceback (most recent call last)",
      "Input \u001b[1;32mIn [2]\u001b[0m, in \u001b[0;36m<cell line: 1>\u001b[1;34m()\u001b[0m\n\u001b[1;32m----> 1\u001b[0m \u001b[43mnp\u001b[49m\u001b[38;5;241m.\u001b[39mrandom\u001b[38;5;241m.\u001b[39mseed(\u001b[38;5;241m218\u001b[39m);\n\u001b[0;32m      3\u001b[0m train_data\u001b[38;5;241m=\u001b[39mnp\u001b[38;5;241m.\u001b[39mrandom\u001b[38;5;241m.\u001b[39mrandint(\u001b[38;5;241m0\u001b[39m,\u001b[38;5;241m100\u001b[39m,(\u001b[38;5;241m25\u001b[39m,\u001b[38;5;241m2\u001b[39m))\u001b[38;5;241m.\u001b[39mastype(\u001b[38;5;124m'\u001b[39m\u001b[38;5;124mfloat32\u001b[39m\u001b[38;5;124m'\u001b[39m)\n\u001b[0;32m      4\u001b[0m label\u001b[38;5;241m=\u001b[39mnp\u001b[38;5;241m.\u001b[39mrandom\u001b[38;5;241m.\u001b[39mrandint(\u001b[38;5;241m0\u001b[39m,\u001b[38;5;241m2\u001b[39m,(\u001b[38;5;241m25\u001b[39m,\u001b[38;5;241m1\u001b[39m))\u001b[38;5;241m.\u001b[39mastype(\u001b[38;5;124m'\u001b[39m\u001b[38;5;124mfloat32\u001b[39m\u001b[38;5;124m'\u001b[39m)\n",
      "\u001b[1;31mNameError\u001b[0m: name 'np' is not defined"
     ]
    }
   ],
   "source": [
    "np.random.seed(218);\n",
    "\n",
    "train_data=np.random.randint(0,100,(25,2)).astype('float32')\n",
    "label=np.random.randint(0,2,(25,1)).astype('float32')\n",
    "\n",
    "red=train_data[label.ravel()==0]\n",
    "plt.scatter(red[:,0],red[:,1],80,\"r\",\"^\")\n",
    "\n",
    "\n",
    "blue=train_data[label.ravel()==1]\n",
    "plt.scatter(blue[:,0],blue[:,1],80,\"b\",\"s\")\n",
    "\n",
    "newdata=np.random.randint(0,100,(1,2)).astype('float32')\n",
    "plt.scatetr(newdata[:,0],newdata[:,1],80,\"g\",\"o\")\n",
    "\n",
    "knn=cv.ml.KNearest_create()\n",
    "knn.train(train_data,cv.ml.ROW_SAMPLE,label)\n",
    "ret,result,neighbors,dist=knn.findNearest(newdata,3)\n",
    "\n",
    "print(f\"result:{result}\")\n",
    "print(f\"neighbors:{neighbors}\")\n",
    "print(f\"distance:{dist}\")\n"
   ]
  },
  {
   "cell_type": "code",
   "execution_count": null,
   "id": "02e71a2c",
   "metadata": {},
   "outputs": [],
   "source": [
    "from sklearn.neighbors import KNeighborsCalssifier\n",
    "\n",
    "knn=KNeighborsClassifier(n_neighbors=2,n_jobs=-1)\n",
    "knn.fit(train_data,label.flatten())\n",
    "print(knn.predict(newdata))"
   ]
  },
  {
   "cell_type": "code",
   "execution_count": null,
   "id": "b5d20648",
   "metadata": {},
   "outputs": [],
   "source": [
    "knn.kneighbors(newdata)"
   ]
  },
  {
   "cell_type": "markdown",
   "id": "0d38a8b7",
   "metadata": {},
   "source": [
    "# Real example of image recognition"
   ]
  },
  {
   "cell_type": "code",
   "execution_count": null,
   "id": "3a4b189d",
   "metadata": {},
   "outputs": [],
   "source": [
    "sys.path"
   ]
  },
  {
   "cell_type": "code",
   "execution_count": null,
   "id": "f9f32510",
   "metadata": {},
   "outputs": [],
   "source": [
    "import mist_reader\n",
    "\n",
    "X_train,y_train=mist_reader.load_mnist(\"./fashion-mnist-master/data/fashion\",kind=\"train\")\n",
    "X_test,y_test=mnist_reader.load_mnist('./fashion-mnist-master/data/fashion\",kind=t10k')\n",
    "\n"
   ]
  },
  {
   "cell_type": "code",
   "execution_count": null,
   "id": "2c37e845",
   "metadata": {},
   "outputs": [],
   "source": [
    "np.random.seed(100)\n",
    "rand_num=np.random.permutation(X_train.shape[0])\n",
    "sample_size=int(0.1*X_train.shape[0])\n",
    "idx=random_num[:sample_size]\n",
    "\n",
    "X_train_part=X_train[idx]\n",
    "y_train_part=y_train[idx]"
   ]
  },
  {
   "cell_type": "code",
   "execution_count": null,
   "id": "7beddaad",
   "metadata": {},
   "outputs": [],
   "source": [
    "from sklearn.model_selction import cross_val_score\n",
    "\n",
    "\n",
    "mean_acc=[]\n",
    "std_acc=[]\n",
    "\n",
    "for i in k_list:\n",
    "    knn=KNeighborsClassifier(n_neighbors=i,n_jobs=-1)\n",
    "    scores=cross_val_score(knn,X_train_part,y_train_part,cv=5)\n",
    "    mean_acc.append(socres.mean())\n",
    "    std.acc.append(socres.std())\n",
    "    "
   ]
  },
  {
   "cell_type": "code",
   "execution_count": null,
   "id": "8e3c4b55",
   "metadata": {},
   "outputs": [],
   "source": [
    "plt.figure()\n",
    "plt.errorbar(k_list,mean_acc,std_acc,marker='s')"
   ]
  },
  {
   "cell_type": "code",
   "execution_count": null,
   "id": "be170419",
   "metadata": {},
   "outputs": [],
   "source": []
  },
  {
   "cell_type": "code",
   "execution_count": 16,
   "id": "bf1fdef4",
   "metadata": {},
   "outputs": [
    {
     "ename": "NameError",
     "evalue": "name 'def__init__' is not defined",
     "output_type": "error",
     "traceback": [
      "\u001b[1;31m---------------------------------------------------------------------------\u001b[0m",
      "\u001b[1;31mNameError\u001b[0m                                 Traceback (most recent call last)",
      "Input \u001b[1;32mIn [16]\u001b[0m, in \u001b[0;36m<cell line: 2>\u001b[1;34m()\u001b[0m\n\u001b[0;32m      1\u001b[0m \u001b[38;5;28;01mimport\u001b[39;00m \u001b[38;5;21;01mos\u001b[39;00m\n\u001b[1;32m----> 2\u001b[0m \u001b[38;5;28;01mclass\u001b[39;00m \u001b[38;5;21;01mdataPreprocess\u001b[39;00m:\n\u001b[0;32m      4\u001b[0m     def__init__(\u001b[38;5;28mself\u001b[39m,width,hright,resize_flag\u001b[38;5;241m=\u001b[39mcv\u001b[38;5;241m.\u001b[39mINTER_AREA)\n",
      "Input \u001b[1;32mIn [16]\u001b[0m, in \u001b[0;36mdataPreprocess\u001b[1;34m()\u001b[0m\n\u001b[0;32m      2\u001b[0m \u001b[38;5;28;01mclass\u001b[39;00m \u001b[38;5;21;01mdataPreprocess\u001b[39;00m:\n\u001b[1;32m----> 4\u001b[0m     \u001b[43mdef__init__\u001b[49m(\u001b[38;5;28mself\u001b[39m,width,hright,resize_flag\u001b[38;5;241m=\u001b[39mcv\u001b[38;5;241m.\u001b[39mINTER_AREA)\n",
      "\u001b[1;31mNameError\u001b[0m: name 'def__init__' is not defined"
     ]
    }
   ],
   "source": [
    "import os\n",
    "class dataPreprocess:\n",
    "    \n",
    "    def __init__(self,width,hright,resize_flag=cv.INTER_AREA):\n",
    "        self.wdith=width\n",
    "        self.height=height\n",
    "        self.resize_flag=resize_flag\n",
    "        \n",
    "    def preprocess(self,img):\n",
    "        return cv.resize(img,(self.width,self.height),interpolation=self.resize_flag)\n",
    "\n",
    "    \n",
    "    \n",
    "    \n",
    "class dataLoader:\n",
    "    def __init__(self,preprocess=None):\n",
    "        self.preprocess=preprocess\n",
    "        if self.preprocess is None:\n",
    "            self.preprocess=[]\n",
    "        \n",
    "    def load(self,imgPath,start_index,end_index):\n",
    "        data=[]\n",
    "        load=[]\n",
    "        \n",
    "        for i in range(start_indec,end_index):\n",
    "            for cate in (\"cat\",\"dog\"):\n",
    "                img=cv.imread(cv.sampels.findFile(os.path.join(imgPath,\"train\",f\"{cate}.{i}.jpg\")))\n",
    "                if self.preprocessor is not None:\n",
    "                    for p in self.preprocessor:\n",
    "                        img=p.preprocess(img)\n",
    "                \n",
    "                data.append(img)\n",
    "                lable.append(cate)\n",
    "                \n",
    "            return (np.array(data),np.array(label))\n",
    "\n",
    "    \n",
    "    "
   ]
  },
  {
   "cell_type": "code",
   "execution_count": null,
   "id": "40d6a210",
   "metadata": {},
   "outputs": [],
   "source": [
    "imgPath=os.getcwd()\n",
    "\n",
    "preprop=dataPreprocess(64,64)\n",
    "loader=dataLoader([preprop])\n",
    "(data,label)=loader.load(imgPath,0,1000)"
   ]
  },
  {
   "cell_type": "code",
   "execution_count": null,
   "id": "ce6ccd89",
   "metadata": {},
   "outputs": [],
   "source": [
    "data.shape"
   ]
  },
  {
   "cell_type": "code",
   "execution_count": null,
   "id": "2343c56c",
   "metadata": {},
   "outputs": [],
   "source": [
    "#raw pixel intensity as the featrues\n",
    "\n",
    "X=data.reshape((data.shape[0].-1))\n",
    "\n",
    "from sklearn.model_selection import train_test_split\n",
    "from sklearn.preprocessing import LabelEncoder\n",
    "le=LabelEncoder()\n",
    "y=le.fit_transform(label)\n",
    "\n",
    "\n"
   ]
  },
  {
   "cell_type": "code",
   "execution_count": null,
   "id": "e1f37ee9",
   "metadata": {},
   "outputs": [],
   "source": [
    "label[:5]\n",
    "y[:5]\n",
    "\n",
    "X_train,X_test,y_train,y_test=train_test_split(X,y,test_size=0.25,random_state=22)\n",
    "\n",
    "k_list=np.arange(1,21,step=2)\n",
    "\n",
    "\n",
    "mean_acc=[]\n",
    "std_acc=[]\n",
    "\n",
    "for i in k_list:\n",
    "    knn=KNeighborsClassifier(n_neighbors=i,n_jobs=-1)\n",
    "    scores=cross_val_score(knn,X_train_part,y_train_part,cv=5)\n",
    "    mean_acc.append(socres.mean())\n",
    "    std.acc.append(socres.std())\n",
    "    \n",
    "\n"
   ]
  },
  {
   "cell_type": "code",
   "execution_count": null,
   "id": "31ec995d",
   "metadata": {},
   "outputs": [],
   "source": [
    "plt.figure()\n",
    "plt.errorbar(k_list,mean_acc,std_acc,marker='s')"
   ]
  },
  {
   "cell_type": "code",
   "execution_count": null,
   "id": "d0c1244b",
   "metadata": {},
   "outputs": [],
   "source": []
  },
  {
   "cell_type": "code",
   "execution_count": null,
   "id": "a40c3b4b",
   "metadata": {},
   "outputs": [],
   "source": []
  },
  {
   "cell_type": "code",
   "execution_count": null,
   "id": "675cc394",
   "metadata": {},
   "outputs": [],
   "source": []
  },
  {
   "cell_type": "code",
   "execution_count": null,
   "id": "01281673",
   "metadata": {},
   "outputs": [],
   "source": []
  }
 ],
 "metadata": {
  "kernelspec": {
   "display_name": "Python 3 (ipykernel)",
   "language": "python",
   "name": "python3"
  },
  "language_info": {
   "codemirror_mode": {
    "name": "ipython",
    "version": 3
   },
   "file_extension": ".py",
   "mimetype": "text/x-python",
   "name": "python",
   "nbconvert_exporter": "python",
   "pygments_lexer": "ipython3",
   "version": "3.9.12"
  }
 },
 "nbformat": 4,
 "nbformat_minor": 5
}
